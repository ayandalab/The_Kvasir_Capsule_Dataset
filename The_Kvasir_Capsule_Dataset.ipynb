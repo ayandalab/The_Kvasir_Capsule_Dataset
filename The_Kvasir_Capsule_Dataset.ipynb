{
  "nbformat": 4,
  "nbformat_minor": 0,
  "metadata": {
    "colab": {
      "name": "The Kvasir-Capsule Dataset",
      "provenance": [],
      "authorship_tag": "ABX9TyO2zmpMkeAiOUyGGTspw5Ea",
      "include_colab_link": true
    },
    "kernelspec": {
      "name": "python3",
      "display_name": "Python 3"
    },
    "language_info": {
      "name": "python"
    }
  },
  "cells": [
    {
      "cell_type": "markdown",
      "metadata": {
        "id": "view-in-github",
        "colab_type": "text"
      },
      "source": [
        "<a href=\"https://colab.research.google.com/github/ayandalab/The_Kvasir_Capsule_Dataset/blob/main/The_Kvasir_Capsule_Dataset.ipynb\" target=\"_parent\"><img src=\"https://colab.research.google.com/assets/colab-badge.svg\" alt=\"Open In Colab\"/></a>"
      ]
    },
    {
      "cell_type": "code",
      "metadata": {
        "colab": {
          "base_uri": "https://localhost:8080/"
        },
        "id": "zxZlQkTxKVmv",
        "outputId": "4ff0e931-3369-42ba-81bc-3293c2952e9c"
      },
      "source": [
        "from google_drive_downloader import GoogleDriveDownloader as gdd\n",
        "\n",
        "gdd.download_file_from_google_drive(file_id='1yDcNMTI-8Zq2Mvs8qe7pLNpPx4BW5Yta',\n",
        "dest_path='content/The Kvasir-Capsule.zip',\n",
        "unzip=True)"
      ],
      "execution_count": 1,
      "outputs": [
        {
          "output_type": "stream",
          "text": [
            "Downloading 1yDcNMTI-8Zq2Mvs8qe7pLNpPx4BW5Yta into content/The Kvasir-Capsule.zip... Done.\n",
            "Unzipping...Done.\n"
          ],
          "name": "stdout"
        }
      ]
    },
    {
      "cell_type": "code",
      "metadata": {
        "id": "wfSn46zfKwoH"
      },
      "source": [
        "import pandas as pd # Data analysis and manipultion tool\n",
        "import numpy as np # Fundamental package for linear algebra and multidimensional arrays\n",
        "import tensorflow as tf # Deep Learning Tool\n",
        "import os # OS module in Python provides a way of using operating system dependent functionality\n",
        "import cv2 # Library for image processing\n",
        "from sklearn.model_selection import train_test_split # For splitting the data into train and validation set\n",
        "from sklearn.metrics import f1_score"
      ],
      "execution_count": 2,
      "outputs": []
    },
    {
      "cell_type": "code",
      "metadata": {
        "colab": {
          "base_uri": "https://localhost:8080/",
          "height": 206
        },
        "id": "0eourlcfLZYQ",
        "outputId": "a565bb93-3e96-4cba-cea5-e3508c74b62b"
      },
      "source": [
        "labels = pd.read_csv(\"/content/content/The Kvasir-Capsule/Training_set.csv\") # loading the labels\n",
        "labels.head() # will display the first five rows in labels dataframe"
      ],
      "execution_count": 3,
      "outputs": [
        {
          "output_type": "execute_result",
          "data": {
            "text/html": [
              "<div>\n",
              "<style scoped>\n",
              "    .dataframe tbody tr th:only-of-type {\n",
              "        vertical-align: middle;\n",
              "    }\n",
              "\n",
              "    .dataframe tbody tr th {\n",
              "        vertical-align: top;\n",
              "    }\n",
              "\n",
              "    .dataframe thead th {\n",
              "        text-align: right;\n",
              "    }\n",
              "</style>\n",
              "<table border=\"1\" class=\"dataframe\">\n",
              "  <thead>\n",
              "    <tr style=\"text-align: right;\">\n",
              "      <th></th>\n",
              "      <th>filename</th>\n",
              "      <th>label</th>\n",
              "    </tr>\n",
              "  </thead>\n",
              "  <tbody>\n",
              "    <tr>\n",
              "      <th>0</th>\n",
              "      <td>Image_1.jpg</td>\n",
              "      <td>Normal clean mucosa</td>\n",
              "    </tr>\n",
              "    <tr>\n",
              "      <th>1</th>\n",
              "      <td>Image_2.jpg</td>\n",
              "      <td>Normal clean mucosa</td>\n",
              "    </tr>\n",
              "    <tr>\n",
              "      <th>2</th>\n",
              "      <td>Image_3.jpg</td>\n",
              "      <td>Foreign body</td>\n",
              "    </tr>\n",
              "    <tr>\n",
              "      <th>3</th>\n",
              "      <td>Image_4.jpg</td>\n",
              "      <td>Normal clean mucosa</td>\n",
              "    </tr>\n",
              "    <tr>\n",
              "      <th>4</th>\n",
              "      <td>Image_5.jpg</td>\n",
              "      <td>Normal clean mucosa</td>\n",
              "    </tr>\n",
              "  </tbody>\n",
              "</table>\n",
              "</div>"
            ],
            "text/plain": [
              "      filename                label\n",
              "0  Image_1.jpg  Normal clean mucosa\n",
              "1  Image_2.jpg  Normal clean mucosa\n",
              "2  Image_3.jpg         Foreign body\n",
              "3  Image_4.jpg  Normal clean mucosa\n",
              "4  Image_5.jpg  Normal clean mucosa"
            ]
          },
          "metadata": {
            "tags": []
          },
          "execution_count": 3
        }
      ]
    },
    {
      "cell_type": "code",
      "metadata": {
        "colab": {
          "base_uri": "https://localhost:8080/",
          "height": 206
        },
        "id": "_j3cZW21Lmcz",
        "outputId": "414d51b3-bccd-4e40-d583-7c7ba686e036"
      },
      "source": [
        "labels.tail() # will display the last five rows in labels dataframe"
      ],
      "execution_count": 4,
      "outputs": [
        {
          "output_type": "execute_result",
          "data": {
            "text/html": [
              "<div>\n",
              "<style scoped>\n",
              "    .dataframe tbody tr th:only-of-type {\n",
              "        vertical-align: middle;\n",
              "    }\n",
              "\n",
              "    .dataframe tbody tr th {\n",
              "        vertical-align: top;\n",
              "    }\n",
              "\n",
              "    .dataframe thead th {\n",
              "        text-align: right;\n",
              "    }\n",
              "</style>\n",
              "<table border=\"1\" class=\"dataframe\">\n",
              "  <thead>\n",
              "    <tr style=\"text-align: right;\">\n",
              "      <th></th>\n",
              "      <th>filename</th>\n",
              "      <th>label</th>\n",
              "    </tr>\n",
              "  </thead>\n",
              "  <tbody>\n",
              "    <tr>\n",
              "      <th>37785</th>\n",
              "      <td>Image_37786.jpg</td>\n",
              "      <td>Normal clean mucosa</td>\n",
              "    </tr>\n",
              "    <tr>\n",
              "      <th>37786</th>\n",
              "      <td>Image_37787.jpg</td>\n",
              "      <td>Normal clean mucosa</td>\n",
              "    </tr>\n",
              "    <tr>\n",
              "      <th>37787</th>\n",
              "      <td>Image_37788.jpg</td>\n",
              "      <td>Normal clean mucosa</td>\n",
              "    </tr>\n",
              "    <tr>\n",
              "      <th>37788</th>\n",
              "      <td>Image_37789.jpg</td>\n",
              "      <td>Ileocecal valve</td>\n",
              "    </tr>\n",
              "    <tr>\n",
              "      <th>37789</th>\n",
              "      <td>Image_37790.jpg</td>\n",
              "      <td>Ileocecal valve</td>\n",
              "    </tr>\n",
              "  </tbody>\n",
              "</table>\n",
              "</div>"
            ],
            "text/plain": [
              "              filename                label\n",
              "37785  Image_37786.jpg  Normal clean mucosa\n",
              "37786  Image_37787.jpg  Normal clean mucosa\n",
              "37787  Image_37788.jpg  Normal clean mucosa\n",
              "37788  Image_37789.jpg      Ileocecal valve\n",
              "37789  Image_37790.jpg      Ileocecal valve"
            ]
          },
          "metadata": {
            "tags": []
          },
          "execution_count": 4
        }
      ]
    },
    {
      "cell_type": "code",
      "metadata": {
        "id": "j3ps3UlRL6IL"
      },
      "source": [
        "file_paths = [[fname, '/content/content/The Kvasir-Capsule/train/' + fname] for fname in labels['filename']]"
      ],
      "execution_count": 5,
      "outputs": []
    },
    {
      "cell_type": "code",
      "metadata": {
        "colab": {
          "base_uri": "https://localhost:8080/"
        },
        "id": "qEy1FHU7L-Lw",
        "outputId": "55db7ef9-0b7e-4d02-b163-9d07462a9b07"
      },
      "source": [
        "# Confirm if number of images is same as number of labels given\n",
        "if len(labels) == len(file_paths):\n",
        "  print('Number of labels i.e. ', len(labels), 'matches the number of filenames i.e. ', len(file_paths))\n",
        "else:\n",
        "  print('Number of labels does not match the number of filenames')"
      ],
      "execution_count": 6,
      "outputs": [
        {
          "output_type": "stream",
          "text": [
            "Number of labels i.e.  37790 matches the number of filenames i.e.  37790\n"
          ],
          "name": "stdout"
        }
      ]
    },
    {
      "cell_type": "code",
      "metadata": {
        "colab": {
          "base_uri": "https://localhost:8080/",
          "height": 206
        },
        "id": "fK_N-psFMnET",
        "outputId": "acecb078-23f0-4c7c-f952-cfb21c7edafe"
      },
      "source": [
        "images = pd.DataFrame(file_paths, columns=['filename', 'filepaths'])\n",
        "images.head()"
      ],
      "execution_count": 7,
      "outputs": [
        {
          "output_type": "execute_result",
          "data": {
            "text/html": [
              "<div>\n",
              "<style scoped>\n",
              "    .dataframe tbody tr th:only-of-type {\n",
              "        vertical-align: middle;\n",
              "    }\n",
              "\n",
              "    .dataframe tbody tr th {\n",
              "        vertical-align: top;\n",
              "    }\n",
              "\n",
              "    .dataframe thead th {\n",
              "        text-align: right;\n",
              "    }\n",
              "</style>\n",
              "<table border=\"1\" class=\"dataframe\">\n",
              "  <thead>\n",
              "    <tr style=\"text-align: right;\">\n",
              "      <th></th>\n",
              "      <th>filename</th>\n",
              "      <th>filepaths</th>\n",
              "    </tr>\n",
              "  </thead>\n",
              "  <tbody>\n",
              "    <tr>\n",
              "      <th>0</th>\n",
              "      <td>Image_1.jpg</td>\n",
              "      <td>/content/content/The Kvasir-Capsule/train/Imag...</td>\n",
              "    </tr>\n",
              "    <tr>\n",
              "      <th>1</th>\n",
              "      <td>Image_2.jpg</td>\n",
              "      <td>/content/content/The Kvasir-Capsule/train/Imag...</td>\n",
              "    </tr>\n",
              "    <tr>\n",
              "      <th>2</th>\n",
              "      <td>Image_3.jpg</td>\n",
              "      <td>/content/content/The Kvasir-Capsule/train/Imag...</td>\n",
              "    </tr>\n",
              "    <tr>\n",
              "      <th>3</th>\n",
              "      <td>Image_4.jpg</td>\n",
              "      <td>/content/content/The Kvasir-Capsule/train/Imag...</td>\n",
              "    </tr>\n",
              "    <tr>\n",
              "      <th>4</th>\n",
              "      <td>Image_5.jpg</td>\n",
              "      <td>/content/content/The Kvasir-Capsule/train/Imag...</td>\n",
              "    </tr>\n",
              "  </tbody>\n",
              "</table>\n",
              "</div>"
            ],
            "text/plain": [
              "      filename                                          filepaths\n",
              "0  Image_1.jpg  /content/content/The Kvasir-Capsule/train/Imag...\n",
              "1  Image_2.jpg  /content/content/The Kvasir-Capsule/train/Imag...\n",
              "2  Image_3.jpg  /content/content/The Kvasir-Capsule/train/Imag...\n",
              "3  Image_4.jpg  /content/content/The Kvasir-Capsule/train/Imag...\n",
              "4  Image_5.jpg  /content/content/The Kvasir-Capsule/train/Imag..."
            ]
          },
          "metadata": {
            "tags": []
          },
          "execution_count": 7
        }
      ]
    },
    {
      "cell_type": "code",
      "metadata": {
        "colab": {
          "base_uri": "https://localhost:8080/",
          "height": 206
        },
        "id": "2z1OsIkLMr_y",
        "outputId": "81d82608-aba7-4ca8-bd86-1d06e039c9b2"
      },
      "source": [
        "train_data = pd.merge(images, labels, how = 'inner', on = 'filename')\n",
        "train_data.head()"
      ],
      "execution_count": 8,
      "outputs": [
        {
          "output_type": "execute_result",
          "data": {
            "text/html": [
              "<div>\n",
              "<style scoped>\n",
              "    .dataframe tbody tr th:only-of-type {\n",
              "        vertical-align: middle;\n",
              "    }\n",
              "\n",
              "    .dataframe tbody tr th {\n",
              "        vertical-align: top;\n",
              "    }\n",
              "\n",
              "    .dataframe thead th {\n",
              "        text-align: right;\n",
              "    }\n",
              "</style>\n",
              "<table border=\"1\" class=\"dataframe\">\n",
              "  <thead>\n",
              "    <tr style=\"text-align: right;\">\n",
              "      <th></th>\n",
              "      <th>filename</th>\n",
              "      <th>filepaths</th>\n",
              "      <th>label</th>\n",
              "    </tr>\n",
              "  </thead>\n",
              "  <tbody>\n",
              "    <tr>\n",
              "      <th>0</th>\n",
              "      <td>Image_1.jpg</td>\n",
              "      <td>/content/content/The Kvasir-Capsule/train/Imag...</td>\n",
              "      <td>Normal clean mucosa</td>\n",
              "    </tr>\n",
              "    <tr>\n",
              "      <th>1</th>\n",
              "      <td>Image_2.jpg</td>\n",
              "      <td>/content/content/The Kvasir-Capsule/train/Imag...</td>\n",
              "      <td>Normal clean mucosa</td>\n",
              "    </tr>\n",
              "    <tr>\n",
              "      <th>2</th>\n",
              "      <td>Image_3.jpg</td>\n",
              "      <td>/content/content/The Kvasir-Capsule/train/Imag...</td>\n",
              "      <td>Foreign body</td>\n",
              "    </tr>\n",
              "    <tr>\n",
              "      <th>3</th>\n",
              "      <td>Image_4.jpg</td>\n",
              "      <td>/content/content/The Kvasir-Capsule/train/Imag...</td>\n",
              "      <td>Normal clean mucosa</td>\n",
              "    </tr>\n",
              "    <tr>\n",
              "      <th>4</th>\n",
              "      <td>Image_5.jpg</td>\n",
              "      <td>/content/content/The Kvasir-Capsule/train/Imag...</td>\n",
              "      <td>Normal clean mucosa</td>\n",
              "    </tr>\n",
              "  </tbody>\n",
              "</table>\n",
              "</div>"
            ],
            "text/plain": [
              "      filename  ...                label\n",
              "0  Image_1.jpg  ...  Normal clean mucosa\n",
              "1  Image_2.jpg  ...  Normal clean mucosa\n",
              "2  Image_3.jpg  ...         Foreign body\n",
              "3  Image_4.jpg  ...  Normal clean mucosa\n",
              "4  Image_5.jpg  ...  Normal clean mucosa\n",
              "\n",
              "[5 rows x 3 columns]"
            ]
          },
          "metadata": {
            "tags": []
          },
          "execution_count": 8
        }
      ]
    },
    {
      "cell_type": "code",
      "metadata": {
        "id": "P5VpzXW5MwSX"
      },
      "source": [
        "def f(r):\n",
        "  if r == \"ampulla_of_vater\":\n",
        "    return 0\n",
        "  elif r == \"Angiectasia\":\n",
        "    return 1\n",
        "  elif r == \"Blood - fresh\":\n",
        "    return 2\n",
        "  elif r == \"Blood - hematin\":\n",
        "    return 3\n",
        "  elif r == \"Erosion\":\n",
        "    return 4\n",
        "  elif r == \"Erythema\":\n",
        "    return 5\n",
        "  elif r == \"Foreign body\":\n",
        "    return 6\n",
        "  elif r == \"Ileocecal valve\":\n",
        "    return 7\n",
        "  elif r == \"Lymphangiectasia\":\n",
        "    return 8\n",
        "  elif r == \"Normal clean mucosa\":\n",
        "    return 9\n",
        "  elif r == \"Polyp\":\n",
        "    return 10\n",
        "  elif r == \"Pylorus\":\n",
        "    return 11\n",
        "  elif r == \"Reduced mucosal view\":\n",
        "    return 12\n",
        "  else:\n",
        "    return 13\n",
        "\n",
        "train_data['label'] = train_data['label'].apply(f)"
      ],
      "execution_count": 9,
      "outputs": []
    },
    {
      "cell_type": "code",
      "metadata": {
        "id": "e6olINI7NPjX"
      },
      "source": [
        "data = [] # initialize an empty numpy array\n",
        "image_size = 100 # image size taken is 100 here. one can take other size too\n",
        "for i in range(len(train_data)):\n",
        "\n",
        "  img_array = cv2.imread(train_data['filepaths'][i], cv2.IMREAD_GRAYSCALE) # converting the image to gray scale\n",
        "\n",
        "  new_img_array = cv2.resize(img_array, (image_size, image_size)) # resizing the image array\n",
        "  data.append([new_img_array, train_data['label'][i]])"
      ],
      "execution_count": 10,
      "outputs": []
    },
    {
      "cell_type": "code",
      "metadata": {
        "colab": {
          "base_uri": "https://localhost:8080/"
        },
        "id": "4KCP-VGMNgMm",
        "outputId": "88b370ba-b4dd-49cc-c84e-4caf6a9592c5"
      },
      "source": [
        "# image pixels of a image\n",
        "data[0]"
      ],
      "execution_count": 11,
      "outputs": [
        {
          "output_type": "execute_result",
          "data": {
            "text/plain": [
              "[array([[0, 0, 0, ..., 0, 0, 0],\n",
              "        [0, 0, 0, ..., 0, 0, 0],\n",
              "        [0, 0, 0, ..., 0, 0, 0],\n",
              "        ...,\n",
              "        [0, 0, 0, ..., 0, 0, 0],\n",
              "        [0, 0, 0, ..., 0, 0, 0],\n",
              "        [0, 0, 0, ..., 0, 0, 0]], dtype=uint8), 9]"
            ]
          },
          "metadata": {
            "tags": []
          },
          "execution_count": 11
        }
      ]
    },
    {
      "cell_type": "code",
      "metadata": {
        "id": "AoarIJIvNuk1"
      },
      "source": [
        "np.random.shuffle(data)"
      ],
      "execution_count": 12,
      "outputs": []
    },
    {
      "cell_type": "code",
      "metadata": {
        "id": "M4f6op2BNyVD"
      },
      "source": [
        "x = []\n",
        "y = []\n",
        "for image in data:\n",
        "  x.append(image[0])\n",
        "  y.append(image[1])\n",
        "\n",
        "# converting x & y to numpy array as they are list\n",
        "x = np.array(x)\n",
        "y = np.array(y) "
      ],
      "execution_count": 13,
      "outputs": []
    },
    {
      "cell_type": "code",
      "metadata": {
        "colab": {
          "base_uri": "https://localhost:8080/"
        },
        "id": "ktA1myOHN7qi",
        "outputId": "365d8c19-14bd-4330-94a3-ebe5dfd5de4a"
      },
      "source": [
        "np.unique(y, return_counts=True)"
      ],
      "execution_count": 14,
      "outputs": [
        {
          "output_type": "execute_result",
          "data": {
            "text/plain": [
              "(array([ 0,  1,  2,  3,  4,  5,  6,  7,  8,  9, 10, 11, 12, 13]),\n",
              " array([    8,   693,   357,    10,   405,   127,   621,  3351,   473,\n",
              "        27470,    44,  1223,  2325,   683]))"
            ]
          },
          "metadata": {
            "tags": []
          },
          "execution_count": 14
        }
      ]
    },
    {
      "cell_type": "code",
      "metadata": {
        "id": "iaWJXc4hOeWd"
      },
      "source": [
        "x = x.reshape(-1, 100, 100, 1)"
      ],
      "execution_count": 15,
      "outputs": []
    },
    {
      "cell_type": "code",
      "metadata": {
        "id": "uD_EMVJEOyv8"
      },
      "source": [
        "# split the data\n",
        "X_train, X_val, y_train, y_val = train_test_split(x,y,test_size=0.3, random_state = 42)"
      ],
      "execution_count": 16,
      "outputs": []
    },
    {
      "cell_type": "code",
      "metadata": {
        "id": "0yFJYInDO1lF"
      },
      "source": [
        "cnn = tf.keras.models.Sequential([\n",
        "tf.keras.layers.Conv2D(filters=32, kernel_size=(3, 3), activation='relu', input_shape=(100, 100, 1)),\n",
        "tf.keras.layers.MaxPooling2D((2, 2)),\n",
        "\n",
        "tf.keras.layers.Conv2D(filters=64, kernel_size=(3, 3), activation='relu'),\n",
        "tf.keras.layers.MaxPooling2D((2, 2)),\n",
        "\n",
        "# tf.keras.layers.Flatten(input_shape=(100, 100, 1)),\n",
        "tf.keras.layers.Flatten(),\n",
        "tf.keras.layers.Dense(64, activation='relu'),\n",
        "tf.keras.layers.Dense(14, activation='sigmoid')\n",
        "])"
      ],
      "execution_count": 17,
      "outputs": []
    },
    {
      "cell_type": "code",
      "metadata": {
        "id": "M5X4P12OPFr1"
      },
      "source": [
        "cnn.compile(optimizer='adam',\n",
        "loss='sparse_categorical_crossentropy',\n",
        "metrics=['accuracy'])"
      ],
      "execution_count": 18,
      "outputs": []
    },
    {
      "cell_type": "code",
      "metadata": {
        "colab": {
          "base_uri": "https://localhost:8080/"
        },
        "id": "hXgwFcKAPdf7",
        "outputId": "10e5c1c1-a3af-431a-ba27-8b9d8b310a46"
      },
      "source": [
        "cnn.fit(X_train, y_train, epochs=10, batch_size=20)"
      ],
      "execution_count": 19,
      "outputs": [
        {
          "output_type": "stream",
          "text": [
            "Epoch 1/10\n",
            "1323/1323 [==============================] - 312s 235ms/step - loss: 1.7010 - accuracy: 0.7240\n",
            "Epoch 2/10\n",
            "1323/1323 [==============================] - 309s 234ms/step - loss: 1.0404 - accuracy: 0.7286\n",
            "Epoch 3/10\n",
            "1323/1323 [==============================] - 307s 232ms/step - loss: 0.9421 - accuracy: 0.7463\n",
            "Epoch 4/10\n",
            "1323/1323 [==============================] - 303s 229ms/step - loss: 0.8164 - accuracy: 0.7746\n",
            "Epoch 5/10\n",
            "1323/1323 [==============================] - 301s 228ms/step - loss: 0.6666 - accuracy: 0.8133\n",
            "Epoch 6/10\n",
            "1323/1323 [==============================] - 300s 227ms/step - loss: 0.5450 - accuracy: 0.8447\n",
            "Epoch 7/10\n",
            "1323/1323 [==============================] - 302s 228ms/step - loss: 0.4490 - accuracy: 0.8707\n",
            "Epoch 8/10\n",
            "1323/1323 [==============================] - 300s 227ms/step - loss: 0.3549 - accuracy: 0.8989\n",
            "Epoch 9/10\n",
            "1323/1323 [==============================] - 298s 225ms/step - loss: 0.2956 - accuracy: 0.9170\n",
            "Epoch 10/10\n",
            "1323/1323 [==============================] - 297s 225ms/step - loss: 0.2455 - accuracy: 0.9301\n"
          ],
          "name": "stdout"
        },
        {
          "output_type": "execute_result",
          "data": {
            "text/plain": [
              "<tensorflow.python.keras.callbacks.History at 0x7f2024db9910>"
            ]
          },
          "metadata": {
            "tags": []
          },
          "execution_count": 19
        }
      ]
    },
    {
      "cell_type": "code",
      "metadata": {
        "colab": {
          "base_uri": "https://localhost:8080/"
        },
        "id": "jYMcMClHPuu1",
        "outputId": "b778f089-af39-4754-fcf9-4098850f0473"
      },
      "source": [
        "cnn.evaluate(X_val, y_val)"
      ],
      "execution_count": 20,
      "outputs": [
        {
          "output_type": "stream",
          "text": [
            "355/355 [==============================] - 32s 89ms/step - loss: 1.8100 - accuracy: 0.8035\n"
          ],
          "name": "stdout"
        },
        {
          "output_type": "execute_result",
          "data": {
            "text/plain": [
              "[1.8100063800811768, 0.8034753203392029]"
            ]
          },
          "metadata": {
            "tags": []
          },
          "execution_count": 20
        }
      ]
    },
    {
      "cell_type": "code",
      "metadata": {
        "id": "c5dQB_D4btwD"
      },
      "source": [
        "test_image_order = pd.read_csv(\"/content/content/The Kvasir-Capsule/Testing_set.csv\")\n",
        "file_paths = [[fname, '/content/content/The Kvasir-Capsule/test/' + fname] for fname in test_image_order['filename']]\n",
        "test_images = pd.DataFrame(file_paths, columns=['filename', 'filepaths'])"
      ],
      "execution_count": 21,
      "outputs": []
    },
    {
      "cell_type": "code",
      "metadata": {
        "id": "Ot-CDpPNb9kv"
      },
      "source": [
        "test_pixel_data = [] # initialize an empty numpy array\n",
        "image_size = 100 # image size taken is 100 here. one can take other size too\n",
        "for i in range(len(test_images)):\n",
        "\n",
        "  img_array = cv2.imread(test_images['filepaths'][i], cv2.IMREAD_GRAYSCALE) # converting the image to gray scale\n",
        "\n",
        "  new_img_array = cv2.resize(img_array, (image_size, image_size)) # resizing the image array\n",
        "\n",
        "  test_pixel_data.append(new_img_array)"
      ],
      "execution_count": 22,
      "outputs": []
    },
    {
      "cell_type": "code",
      "metadata": {
        "id": "4bSxU4tbcDP9"
      },
      "source": [
        "test_pixel_data = np.array(test_pixel_data)\n",
        "test_pixel_data = test_pixel_data.reshape(-1, 100, 100, 1)\n",
        "pred = cnn.predict(test_pixel_data)"
      ],
      "execution_count": 23,
      "outputs": []
    },
    {
      "cell_type": "code",
      "metadata": {
        "id": "HCmD18FdcKE1"
      },
      "source": [
        "prediction = []\n",
        "for value in pred:\n",
        "  prediction.append(np.argmax(value))\n",
        "\n",
        "predictions = []\n",
        "for r in prediction:\n",
        "  if r == 0:\n",
        "    predictions.append(\"ampulla_of_vater\")\n",
        "  elif r == 1:\n",
        "    predictions.append(\"Angiectasia\")\n",
        "  elif r == 2:\n",
        "    predictions.append(\"Blood - fresh\")\n",
        "  elif r == 3:\n",
        "    predictions.append(\"Blood - hematin\")\n",
        "  elif r == 4:\n",
        "    predictions.append(\"Erosion\")\n",
        "  elif r == 5:\n",
        "    predictions.append(\"Erythema\")\n",
        "  elif r == 6:\n",
        "    predictions.append(\"Foreign body\")\n",
        "  elif r == 7:\n",
        "    predictions.append(\"Ileocecal valve\")\n",
        "  elif r == 8:\n",
        "    predictions.append(\"Lymphangiectasia\")\n",
        "  elif r == 9:\n",
        "    predictions.append(\"Normal clean mucosa\")\n",
        "  elif r == 10:\n",
        "    predictions.append(\"Polyp\")\n",
        "  elif r == 11:\n",
        "    predictions.append(\"Pylorus\")\n",
        "  elif r == 12:\n",
        "    predictions.append(\"Reduced mucosal view\")\n",
        "  else:\n",
        "    predictions.append(\"ulcer\")"
      ],
      "execution_count": 24,
      "outputs": []
    },
    {
      "cell_type": "code",
      "metadata": {
        "colab": {
          "base_uri": "https://localhost:8080/",
          "height": 17
        },
        "id": "uMMX2bVqcTCS",
        "outputId": "b80899a7-a1ed-4ba1-dfef-0b1783ec4618"
      },
      "source": [
        "res = pd.DataFrame({'label': predictions}) # prediction is nothing but the final predictions of your model on input features of your new unseen test data\n",
        "res.to_csv(\"submission.csv\", index = False)\n",
        "\n",
        "# To download the csv file locally\n",
        "from google.colab import files\n",
        "files.download('submission.csv')"
      ],
      "execution_count": 25,
      "outputs": [
        {
          "output_type": "display_data",
          "data": {
            "application/javascript": [
              "\n",
              "    async function download(id, filename, size) {\n",
              "      if (!google.colab.kernel.accessAllowed) {\n",
              "        return;\n",
              "      }\n",
              "      const div = document.createElement('div');\n",
              "      const label = document.createElement('label');\n",
              "      label.textContent = `Downloading \"${filename}\": `;\n",
              "      div.appendChild(label);\n",
              "      const progress = document.createElement('progress');\n",
              "      progress.max = size;\n",
              "      div.appendChild(progress);\n",
              "      document.body.appendChild(div);\n",
              "\n",
              "      const buffers = [];\n",
              "      let downloaded = 0;\n",
              "\n",
              "      const channel = await google.colab.kernel.comms.open(id);\n",
              "      // Send a message to notify the kernel that we're ready.\n",
              "      channel.send({})\n",
              "\n",
              "      for await (const message of channel.messages) {\n",
              "        // Send a message to notify the kernel that we're ready.\n",
              "        channel.send({})\n",
              "        if (message.buffers) {\n",
              "          for (const buffer of message.buffers) {\n",
              "            buffers.push(buffer);\n",
              "            downloaded += buffer.byteLength;\n",
              "            progress.value = downloaded;\n",
              "          }\n",
              "        }\n",
              "      }\n",
              "      const blob = new Blob(buffers, {type: 'application/binary'});\n",
              "      const a = document.createElement('a');\n",
              "      a.href = window.URL.createObjectURL(blob);\n",
              "      a.download = filename;\n",
              "      div.appendChild(a);\n",
              "      a.click();\n",
              "      div.remove();\n",
              "    }\n",
              "  "
            ],
            "text/plain": [
              "<IPython.core.display.Javascript object>"
            ]
          },
          "metadata": {
            "tags": []
          }
        },
        {
          "output_type": "display_data",
          "data": {
            "application/javascript": [
              "download(\"download_3bce213b-dfaa-48c7-96c0-7a6996151df0\", \"submission.csv\", 178357)"
            ],
            "text/plain": [
              "<IPython.core.display.Javascript object>"
            ]
          },
          "metadata": {
            "tags": []
          }
        }
      ]
    },
    {
      "cell_type": "code",
      "metadata": {
        "id": "8J9ORRzmdKxn"
      },
      "source": [
        ""
      ],
      "execution_count": null,
      "outputs": []
    }
  ]
}